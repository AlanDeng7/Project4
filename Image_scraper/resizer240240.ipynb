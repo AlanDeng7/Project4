{
 "cells": [
  {
   "cell_type": "code",
   "execution_count": 4,
   "metadata": {},
   "outputs": [
    {
     "name": "stderr",
     "output_type": "stream",
     "text": [
      "C:\\Users\\chris\\AppData\\Local\\Temp\\ipykernel_27052\\2682005537.py:7: DeprecationWarning: ANTIALIAS is deprecated and will be removed in Pillow 10 (2023-07-01). Use Resampling.LANCZOS instead.\n",
      "  original_image.thumbnail(size, Image.ANTIALIAS)\n"
     ]
    }
   ],
   "source": [
    "import os\n",
    "from PIL import Image\n",
    "import shutil\n",
    "\n",
    "def resize_image(input_image_path, output_image_path, size):\n",
    "    original_image = Image.open(input_image_path)\n",
    "    original_image.thumbnail(size, Image.ANTIALIAS)\n",
    "\n",
    "    # Create a new square background image\n",
    "    background = Image.new('RGBA', size, (255, 255, 255, 0))\n",
    "\n",
    "    # Calculate the position to paste the thumbnail\n",
    "    image_position = (int((size[0] - original_image.size[0]) / 2), int((size[1] - original_image.size[1]) / 2))\n",
    "\n",
    "    # Paste the thumbnail onto the background\n",
    "    background.paste(original_image, image_position)\n",
    "\n",
    "    # Save the output image\n",
    "    background.save(output_image_path)\n",
    "\n",
    "# Specify the input directory and output directory\n",
    "input_directory = \"D:/DataBootcamp/Projects/Project4/Images/hamster/converted\"\n",
    "output_directory = \"D:/DataBootcamp/Projects/Project4/Images/hamster/\"\n",
    "\n",
    "# Ensure the output directory exists\n",
    "os.makedirs(output_directory, exist_ok=True)\n",
    "\n",
    "# Process all images in the input directory\n",
    "for filename in os.listdir(input_directory):\n",
    "    if filename.endswith(\".png\") or filename.endswith(\".jpg\") or filename.endswith(\".jpeg\"):\n",
    "        input_path = os.path.join(input_directory, filename)\n",
    "        output_path = os.path.join(output_directory, \"resized_\" + filename)\n",
    "\n",
    "        # Check if the image is a JPG and convert it to PNG before resizing\n",
    "        if filename.endswith(\".jpg\") or filename.endswith(\".jpeg\"):\n",
    "            new_filename = os.path.splitext(filename)[0] + \".png\"\n",
    "            temp_output_path = os.path.join(output_directory, new_filename)\n",
    "            Image.open(input_path).save(temp_output_path)\n",
    "\n",
    "            # Resize the PNG image\n",
    "            resize_image(temp_output_path, output_path, (240, 240))\n",
    "\n",
    "            # Remove the temporary PNG image\n",
    "            os.remove(temp_output_path)\n",
    "        else:\n",
    "            # Resize the image directly\n",
    "            resize_image(input_path, output_path, (240, 240))\n",
    "\n",
    "\n"
   ]
  }
 ],
 "metadata": {
  "kernelspec": {
   "display_name": "PythonData",
   "language": "python",
   "name": "pythondata"
  },
  "language_info": {
   "codemirror_mode": {
    "name": "ipython",
    "version": 3
   },
   "file_extension": ".py",
   "mimetype": "text/x-python",
   "name": "python",
   "nbconvert_exporter": "python",
   "pygments_lexer": "ipython3",
   "version": "3.9.13"
  },
  "orig_nbformat": 4
 },
 "nbformat": 4,
 "nbformat_minor": 2
}
