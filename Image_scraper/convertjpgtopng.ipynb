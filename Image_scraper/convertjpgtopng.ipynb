{
 "cells": [
  {
   "cell_type": "code",
   "execution_count": 1,
   "metadata": {},
   "outputs": [],
   "source": [
    "import os\n",
    "from PIL import Image\n",
    "\n",
    "# Define the source and target directories\n",
    "src_dir = \"F:\\\\Animals\"\n",
    "dst_dir = \"F:\\\\Animals2\"\n",
    "\n",
    "# Create the destination directory if it doesn't exist\n",
    "os.makedirs(dst_dir, exist_ok=True)\n",
    "\n",
    "# Loop through all files in the source directory\n",
    "for filename in os.listdir(src_dir):\n",
    "    # Check if the file is an image\n",
    "    if filename.endswith(\".jpg\"):\n",
    "        # Open the image file\n",
    "        img = Image.open(os.path.join(src_dir, filename))\n",
    "        # Split the filename and extension\n",
    "        filename, _ = os.path.splitext(filename)\n",
    "        # Save the image with a new extension in the destination directory\n",
    "        img.save(os.path.join(dst_dir, filename + \".png\"))\n"
   ]
  }
 ],
 "metadata": {
  "kernelspec": {
   "display_name": "base",
   "language": "python",
   "name": "python3"
  },
  "language_info": {
   "codemirror_mode": {
    "name": "ipython",
    "version": 3
   },
   "file_extension": ".py",
   "mimetype": "text/x-python",
   "name": "python",
   "nbconvert_exporter": "python",
   "pygments_lexer": "ipython3",
   "version": "3.9.13"
  },
  "orig_nbformat": 4
 },
 "nbformat": 4,
 "nbformat_minor": 2
}
