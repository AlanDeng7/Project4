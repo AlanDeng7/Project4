{
 "cells": [
  {
   "cell_type": "code",
   "execution_count": 2,
   "metadata": {},
   "outputs": [],
   "source": [
    "import os\n",
    "\n",
    "def rename_files():\n",
    "    directory = 'D:\\DataBootcamp\\Projects\\Project4\\Images'\n",
    "    \n",
    "    for filename in os.listdir(directory):\n",
    "        if filename.startswith(\"resized_image_\") and filename.endswith(\".png\"):\n",
    "            # Extract the number from the filename.\n",
    "            number = int(filename.split('resized_image_')[1].split('.')[0])\n",
    "\n",
    "            # Create new filename.\n",
    "            new_filename = f\"image_{number}.png\"\n",
    "\n",
    "            # Rename the file.\n",
    "            src = os.path.join(directory, filename)\n",
    "            dst = os.path.join(directory, new_filename)\n",
    "            os.rename(src, dst)\n",
    "\n",
    "if __name__ == \"__main__\":\n",
    "    rename_files()\n"
   ]
  }
 ],
 "metadata": {
  "kernelspec": {
   "display_name": "PythonData",
   "language": "python",
   "name": "pythondata"
  },
  "language_info": {
   "codemirror_mode": {
    "name": "ipython",
    "version": 3
   },
   "file_extension": ".py",
   "mimetype": "text/x-python",
   "name": "python",
   "nbconvert_exporter": "python",
   "pygments_lexer": "ipython3",
   "version": "3.9.13"
  },
  "orig_nbformat": 4
 },
 "nbformat": 4,
 "nbformat_minor": 2
}
