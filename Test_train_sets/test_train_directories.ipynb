{
 "cells": [
  {
   "cell_type": "code",
   "execution_count": 13,
   "metadata": {},
   "outputs": [],
   "source": [
    "import os\n",
    "from os import makedirs\n",
    "from numpy import asarray\n",
    "from numpy import save\n",
    "\n",
    "# organize dataset into a useful structure\n",
    "from os import makedirs\n",
    "from os import listdir\n",
    "from shutil import copyfile\n",
    "from random import seed\n",
    "from random import random"
   ]
  },
  {
   "cell_type": "code",
   "execution_count": 24,
   "metadata": {},
   "outputs": [],
   "source": [
    "# create directories\n",
    "dataset_home = ''\n",
    "subdirs = ['train/', 'test/']\n",
    "for subdir in subdirs:\n",
    " # create label subdirectories\n",
    "    labeldirs = ['dog/', 'cat/', 'fish/', 'bird/', 'hamster/', 'dragon/']\n",
    "    for labldir in labeldirs:\n",
    "        newdir = dataset_home + subdir + labldir\n",
    "        makedirs(newdir, exist_ok=True)"
   ]
  },
  {
   "cell_type": "code",
   "execution_count": 25,
   "metadata": {},
   "outputs": [],
   "source": [
    "# seed random number generator\n",
    "imgdirs = ['dog', 'cat', 'fish', 'bird', 'hamster', 'dragon']\n",
    "labeldirs =['dog/', 'cat/', 'fish/', 'bird/', 'hamster/', 'dragon/']\n",
    "\n",
    "seed(1)\n",
    "# define ratio of pictures to use for validation\n",
    "val_ratio = 0.25\n",
    "# copy training dataset images into subdirectories\n",
    "for imgdir, label in zip(imgdirs, labeldirs):\n",
    "    src_directory = f'../Images/{imgdir}'\n",
    "    for file in listdir(src_directory):\n",
    "        src = src_directory + '/' + file\n",
    "        dst_dir = 'train/'\n",
    "        if random() < val_ratio:\n",
    "            dst_dir = 'test/'\n",
    "        if file.startswith(imgdir):\n",
    "            dst = dataset_home + dst_dir + label + file\n",
    "            copyfile(src, dst)\n",
    "    \n"
   ]
  }
 ],
 "metadata": {
  "kernelspec": {
   "display_name": "PythonData",
   "language": "python",
   "name": "python3"
  },
  "language_info": {
   "codemirror_mode": {
    "name": "ipython",
    "version": 3
   },
   "file_extension": ".py",
   "mimetype": "text/x-python",
   "name": "python",
   "nbconvert_exporter": "python",
   "pygments_lexer": "ipython3",
   "version": "3.7.7"
  },
  "orig_nbformat": 4
 },
 "nbformat": 4,
 "nbformat_minor": 2
}
